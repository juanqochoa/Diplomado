{
 "cells": [
  {
   "cell_type": "markdown",
   "metadata": {},
   "source": [
    "# La sentencia while"
   ]
  },
  {
   "cell_type": "code",
   "execution_count": 1,
   "metadata": {},
   "outputs": [
    {
     "name": "stdout",
     "output_type": "stream",
     "text": [
      "Hola que tal!!!!\n",
      "Hola que tal!!!!\n",
      "Hola que tal!!!!\n",
      "Hola que tal!!!!\n",
      "Que tenga un buen día\n"
     ]
    }
   ],
   "source": [
    "stop_word = \"s\"\n",
    "while stop_word == \"s\":\n",
    "    print(\"Hola que tal!!!!\")\n",
    "    stop_word = input(\"Quieres otro saludo? [s,n]\")\n",
    "print(\"Que tenga un buen día\")\n",
    "# Mientras stop_word sea igual a \"s\", se va a repetir el ciclo "
   ]
  },
  {
   "cell_type": "code",
   "execution_count": 3,
   "metadata": {},
   "outputs": [
    {
     "name": "stdout",
     "output_type": "stream",
     "text": [
      "Hola :)\n"
     ]
    }
   ],
   "source": [
    "while True:\n",
    "    print (\"Hola :)\")\n",
    "    break # La instrucción break rompe el ciclo, en este caso solo se realiza una vez"
   ]
  },
  {
   "cell_type": "code",
   "execution_count": null,
   "metadata": {},
   "outputs": [],
   "source": [
    "stop_word = \"s\"\n",
    "MAX_REP = 3\n",
    "n_rep = 0\n",
    "while stop_word == \"s\":\n",
    "    print(\"Hola que tal!!!!\")\n",
    "    stop_word = input(\"Quieres otro saludo? [s,n]\")\n",
    "    n_rep = n_rep + 1\n",
    "    if n_rep == MAX_REP:\n",
    "        break\n",
    "print(\"Que tenga un buen día\")\n",
    "# Hay un número máximo de repeticiones"
   ]
  },
  {
   "cell_type": "markdown",
   "metadata": {},
   "source": [
    "# Operadores de Asignación"
   ]
  },
  {
   "cell_type": "code",
   "execution_count": null,
   "metadata": {},
   "outputs": [],
   "source": [
    "n_rep =+ 1 # Es una operación de incremento (Equivalente a n_rep = n_rep + 1)\n",
    "n_rep =- 1 # Operación de decremento (Equivalente a n_rep = n_rep - 1)"
   ]
  }
 ],
 "metadata": {
  "kernelspec": {
   "display_name": "Diplomado",
   "language": "python",
   "name": "python3"
  },
  "language_info": {
   "codemirror_mode": {
    "name": "ipython",
    "version": 3
   },
   "file_extension": ".py",
   "mimetype": "text/x-python",
   "name": "python",
   "nbconvert_exporter": "python",
   "pygments_lexer": "ipython3",
   "version": "3.10.14"
  }
 },
 "nbformat": 4,
 "nbformat_minor": 2
}
