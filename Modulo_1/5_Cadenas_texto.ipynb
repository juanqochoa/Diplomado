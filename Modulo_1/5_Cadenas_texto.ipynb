{
 "cells": [
  {
   "cell_type": "markdown",
   "metadata": {},
   "source": [
    "# Cadenas de texto"
   ]
  },
  {
   "cell_type": "markdown",
   "metadata": {},
   "source": [
    "Las cadenas de texto son secuencias de caracteres. También se les conoce como strings."
   ]
  },
  {
   "cell_type": "code",
   "execution_count": 1,
   "metadata": {},
   "outputs": [
    {
     "data": {
      "text/plain": [
       "\"Esto es una 'cadena' de texto\""
      ]
     },
     "execution_count": 1,
     "metadata": {},
     "output_type": "execute_result"
    }
   ],
   "source": [
    "# Esta es la primer forma de especificar un texto\n",
    "texto = \"Esto es una 'cadena' de texto\"\n",
    "texto"
   ]
  },
  {
   "cell_type": "code",
   "execution_count": null,
   "metadata": {},
   "outputs": [],
   "source": [
    "#Cadena con comillas simples\n",
    "texto = 'Esto también es una \"cadena\" de texto'\n",
    "texto"
   ]
  },
  {
   "cell_type": "code",
   "execution_count": null,
   "metadata": {},
   "outputs": [],
   "source": [
    "texto = \"\"\"\n",
    "La tasa se calcula dividiendo el numero de delitos ocurridos por extorsión entre la\n",
    "población de 18 años y más multiplicando por cien mil. La tasa se calcula...\n",
    "\"\"\""
   ]
  },
  {
   "cell_type": "code",
   "execution_count": 7,
   "metadata": {},
   "outputs": [
    {
     "name": "stdout",
     "output_type": "stream",
     "text": [
      "Primera linea \n",
      "Segunda linea \n",
      "Tercera linea\n"
     ]
    }
   ],
   "source": [
    "msg = \"Primera linea \\nSegunda linea \\nTercera linea\"\n",
    "print(msg)"
   ]
  },
  {
   "cell_type": "code",
   "execution_count": 8,
   "metadata": {},
   "outputs": [
    {
     "name": "stdout",
     "output_type": "stream",
     "text": [
      "Hola Mundo\n"
     ]
    }
   ],
   "source": [
    "# Imprime dos cadenas juntas\n",
    "msg1 = \"Hola\"\n",
    "msg2 =\"Mundo\"\n",
    "print(msg1,msg2)\n",
    "#Imprime Hola Mundo\n",
    "print(msg1,msg2,sep=\"|\")\n",
    "#Imprime Hola|Mundo\n",
    "print(msg1,msg2,end=\"|\")\n",
    "#Imprime Hola Mundo|\n"
   ]
  },
  {
   "cell_type": "markdown",
   "metadata": {},
   "source": [
    "# Concatenación"
   ]
  },
  {
   "cell_type": "code",
   "execution_count": null,
   "metadata": {},
   "outputs": [],
   "source": [
    "msg1 = \"Hola\"\n",
    "nombre = \"Juan\"\n",
    "concatenada = msg1 + \" \" + nombre\n",
    "print(concatenada)\n",
    "\n",
    "repetir = msg1 * 3\n",
    "print(repetir)\n",
    "#imprime holaholahola"
   ]
  },
  {
   "cell_type": "markdown",
   "metadata": {},
   "source": [
    "# Indexación"
   ]
  },
  {
   "cell_type": "code",
   "execution_count": null,
   "metadata": {},
   "outputs": [],
   "source": [
    "string = \"Hola, mundo\"\n",
    "print(string[0])\n",
    "#Imprime \"H\"\n",
    "print(string[4])\n",
    "#Imprime \",\"\n",
    "\n",
    "# Para obtener caracteres empezando en el final, se usan números negativos\n",
    "# sirve para cuando no sabes la longitud de la cadena\n",
    "print(string[-1])\n",
    "#Imprime \"o\"\n",
    "print(string[-2])\n",
    "#Imprime \"d\""
   ]
  },
  {
   "cell_type": "markdown",
   "metadata": {},
   "source": [
    "# Trocear una cadena"
   ]
  },
  {
   "cell_type": "code",
   "execution_count": null,
   "metadata": {},
   "outputs": [],
   "source": [
    "string = \"Hola, mundo\"\n",
    "print(string[:]) # Extrae la secuencia entera desde el comienzo hasta el final\n",
    "print(string[0:4]) # [start:end] extrae la secuencia desde start hasta end menos 1\n",
    "print(string[:4]) #Imprime todo hasta la posición 4 menos 1\n",
    "print(string[4:]) #Imprime todo desde la posición 4\n",
    "print(string[2::2]) # [Inicio:final:pasos] Va a brincar de dos en dos desde ls posición 2 hasta el final"
   ]
  },
  {
   "cell_type": "markdown",
   "metadata": {},
   "source": [
    "# Limpiar cadenas de texto"
   ]
  },
  {
   "cell_type": "code",
   "execution_count": 15,
   "metadata": {},
   "outputs": [
    {
     "name": "stdout",
     "output_type": "stream",
     "text": [
      "La tasa se calcula dividiendo el número de delitos\n",
      "La tasa se calcula dividiendo el número de delitos\n"
     ]
    }
   ],
   "source": [
    "texto = \"          La tasa se calcula dividiendo el número de delitos       \"\n",
    "print(texto.strip(\" \")) #Le quita los espacios innecesarios al inicio y al final\n",
    "texto = \"11111111111La tasa se calcula dividiendo el número de delitos11111111\"\n",
    "print(texto.strip(\"1\")) #Le quita los 1s innecesarios al inicio y al final\n",
    "print(texto.rstrip(\"1\")) #Le quita los 1s innecesarios a la derecha del texto\n",
    "print(texto.lstrip(\"1\")) #Le quita los 1s innecesarios a la izquierda del texto"
   ]
  },
  {
   "cell_type": "markdown",
   "metadata": {},
   "source": [
    "# Realizar busquedas en texto"
   ]
  },
  {
   "cell_type": "code",
   "execution_count": 16,
   "metadata": {},
   "outputs": [
    {
     "name": "stdout",
     "output_type": "stream",
     "text": [
      "True\n",
      "True\n",
      "11\n"
     ]
    }
   ],
   "source": [
    "texto = \"La tasa se calcula dividiendo el número de delitos\"\n",
    "print(texto.startswith(\"La\")) # True, checa si así empieza la cadena\n",
    "print(texto.endswith(\"delitos\")) # True, checa si así termina la cadena\n",
    "print(texto.find(\"calcula\")) # 11, Te dice en que posición empieza en la cadena la palabra que busca"
   ]
  },
  {
   "cell_type": "markdown",
   "metadata": {},
   "source": [
    "# Mayúsculas y minúsculas"
   ]
  },
  {
   "cell_type": "code",
   "execution_count": null,
   "metadata": {},
   "outputs": [],
   "source": [
    "texto = \"Hola\"\n",
    "print(texto.upper()) # Te lo pone en mayúsculas\n",
    "print(texto.lower()) # Te lo pone en minúsculas"
   ]
  },
  {
   "cell_type": "markdown",
   "metadata": {},
   "source": [
    "# Pertenencia de un elemento"
   ]
  },
  {
   "cell_type": "code",
   "execution_count": null,
   "metadata": {},
   "outputs": [],
   "source": [
    "texto = \"La tasa se calcula dividiendo\" \n",
    "print(\"tasa\" in texto) # true, checa si está \"tasa\" en la cadena"
   ]
  },
  {
   "cell_type": "markdown",
   "metadata": {},
   "source": [
    "# F-string"
   ]
  },
  {
   "cell_type": "code",
   "execution_count": 24,
   "metadata": {},
   "outputs": [
    {
     "name": "stdout",
     "output_type": "stream",
     "text": [
      "Me llamo Elon Musk y tengo 50 años, con una fortuna de 500000 millones de dolares\n",
      "Este es el valor de pi redondeado a 3 dígitos: 3.142\n",
      "Este es el valor de pi con 7 dígitos y 2 decimales: 0003.14\n",
      "Este es el valor de pi con notación científica: 3.141593e+00\n"
     ]
    }
   ],
   "source": [
    "name = \"Elon Musk\"\n",
    "age = 50\n",
    "fortune = 500000\n",
    "print(f\"Me llamo {name} y tengo {age} años, con una fortuna de {fortune} millones de dolares\")\n",
    "\n",
    "import math\n",
    "Pi = math.pi\n",
    "print(f\"Este es el valor de pi redondeado a 3 dígitos: {Pi:.3f}\")\n",
    "print(f\"Este es el valor de pi con 7 dígitos y 2 decimales: {Pi:07.2f}\")\n",
    "print(f\"Este es el valor de pi con notación científica: {Pi:e}\")"
   ]
  },
  {
   "cell_type": "markdown",
   "metadata": {},
   "source": [
    "# Largo de una cadena de texto"
   ]
  },
  {
   "cell_type": "code",
   "execution_count": null,
   "metadata": {},
   "outputs": [],
   "source": [
    "print (len(texto)) # Te dice la longitud de una cadena"
   ]
  }
 ],
 "metadata": {
  "kernelspec": {
   "display_name": "Diplomado",
   "language": "python",
   "name": "python3"
  },
  "language_info": {
   "codemirror_mode": {
    "name": "ipython",
    "version": 3
   },
   "file_extension": ".py",
   "mimetype": "text/x-python",
   "name": "python",
   "nbconvert_exporter": "python",
   "pygments_lexer": "ipython3",
   "version": "3.10.14"
  }
 },
 "nbformat": 4,
 "nbformat_minor": 2
}
