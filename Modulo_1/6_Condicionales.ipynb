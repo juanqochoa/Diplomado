{
 "cells": [
  {
   "cell_type": "markdown",
   "metadata": {},
   "source": [
    "# Condicionales"
   ]
  },
  {
   "cell_type": "code",
   "execution_count": 1,
   "metadata": {},
   "outputs": [
    {
     "name": "stdout",
     "output_type": "stream",
     "text": [
      "Aviso por alta temperatura\n"
     ]
    }
   ],
   "source": [
    "temperatura = 40\n",
    "if temperatura > 35: \n",
    "    print(\"Aviso por alta temperatura\") \n",
    "else:\n",
    "    print(\"Parámetros normales\")"
   ]
  },
  {
   "cell_type": "code",
   "execution_count": null,
   "metadata": {},
   "outputs": [],
   "source": [
    "temperatura = 19\n",
    "if temperatura < 20: \n",
    "    if temperatura < 10: \n",
    "        print(\"Alerta azul\") \n",
    "    else:\n",
    "        print(\"Alerta verde\") \n",
    "elif temperatura <= 30: #elif es else e if al mismo tiempo\n",
    "        print(\"Alerta naranja\") \n",
    "else:\n",
    "        print(\"Alerta roja\")"
   ]
  }
 ],
 "metadata": {
  "kernelspec": {
   "display_name": "Diplomado",
   "language": "python",
   "name": "python3"
  },
  "language_info": {
   "codemirror_mode": {
    "name": "ipython",
    "version": 3
   },
   "file_extension": ".py",
   "mimetype": "text/x-python",
   "name": "python",
   "nbconvert_exporter": "python",
   "pygments_lexer": "ipython3",
   "version": "3.10.14"
  }
 },
 "nbformat": 4,
 "nbformat_minor": 2
}
